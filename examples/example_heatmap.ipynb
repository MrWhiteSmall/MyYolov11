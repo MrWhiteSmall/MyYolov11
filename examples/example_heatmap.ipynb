{
 "cells": [
  {
   "cell_type": "code",
   "execution_count": 2,
   "metadata": {},
   "outputs": [
    {
     "ename": "ModuleNotFoundError",
     "evalue": "No module named 'ultralytics'",
     "output_type": "error",
     "traceback": [
      "\u001b[0;31m---------------------------------------------------------------------------\u001b[0m",
      "\u001b[0;31mModuleNotFoundError\u001b[0m                       Traceback (most recent call last)",
      "Cell \u001b[0;32mIn[2], line 4\u001b[0m\n\u001b[1;32m      1\u001b[0m \u001b[38;5;28;01mimport\u001b[39;00m \u001b[38;5;21;01mcv2\u001b[39;00m\n\u001b[1;32m      2\u001b[0m \u001b[38;5;28;01mimport\u001b[39;00m \u001b[38;5;21;01mmatplotlib\u001b[39;00m\u001b[38;5;21;01m.\u001b[39;00m\u001b[38;5;21;01mpyplot\u001b[39;00m \u001b[38;5;28;01mas\u001b[39;00m \u001b[38;5;21;01mplt\u001b[39;00m\n\u001b[0;32m----> 4\u001b[0m \u001b[38;5;28;01mfrom\u001b[39;00m \u001b[38;5;21;01multralytics\u001b[39;00m \u001b[38;5;28;01mimport\u001b[39;00m YOLO, solutions\n\u001b[1;32m      6\u001b[0m \u001b[38;5;66;03m# Load YOLO model\u001b[39;00m\n\u001b[1;32m      7\u001b[0m model \u001b[38;5;241m=\u001b[39m YOLO(\u001b[38;5;124m\"\u001b[39m\u001b[38;5;124m/root/lsj/yolo11/runs/segment/train11/weights/best.pt\u001b[39m\u001b[38;5;124m\"\u001b[39m)\n",
      "\u001b[0;31mModuleNotFoundError\u001b[0m: No module named 'ultralytics'"
     ]
    }
   ],
   "source": [
    "import cv2\n",
    "import matplotlib.pyplot as plt\n",
    "\n",
    "from ultralytics import YOLO, solutions\n",
    "\n",
    "# Load YOLO model\n",
    "model = YOLO(\"/root/lsj/yolo11/runs/segment/train11/weights/best.pt\")\n",
    "\n",
    "# Open video file\n",
    "# cap = cv2.VideoCapture(\"path/to/video/file.mp4\")\n",
    "# assert cap.isOpened(), \"Error reading video file\"\n",
    "\n",
    "# # Get video properties\n",
    "# w, h, fps = (int(cap.get(x)) for x in (cv2.CAP_PROP_FRAME_WIDTH, cv2.CAP_PROP_FRAME_HEIGHT, cv2.CAP_PROP_FPS))\n",
    "\n",
    "# # Initialize video writer\n",
    "# video_writer = cv2.VideoWriter(\"heatmap_output.avi\", cv2.VideoWriter_fourcc(*\"mp4v\"), fps, (w, h))\n",
    "\n",
    "# Initialize heatmap object\n",
    "heatmap_obj = solutions.Heatmap(\n",
    "    colormap=cv2.COLORMAP_PARULA,\n",
    "    view_img=True,\n",
    "    shape=\"circle\",\n",
    "    names=model.names,\n",
    ")\n",
    "\n",
    "# while cap.isOpened():\n",
    "#     success, im0 = cap.read()\n",
    "#     if not success:\n",
    "#         print(\"Video frame is empty or video processing has been successfully completed.\")\n",
    "#         break\n",
    "imgpath = '/root/datasets/mvTP/TP/val/T132C06A251301240_Up309-16-19.jpg'\n",
    "im0 = cv2.imread(imgpath)\n",
    "# Perform tracking on the current frame\n",
    "tracks = model(im0, persist=True, show=False)\n",
    "\n",
    "# Generate heatmap on the frame\n",
    "im0 = heatmap_obj.generate_heatmap(im0, tracks)\n",
    "\n",
    "    # # Write the frame to the output video\n",
    "    # video_writer.write(im0)\n",
    "\n",
    "# Release resources\n",
    "# cap.release()\n",
    "# video_writer.release()\n",
    "# cv2.destroyAllWindows()\n",
    "plt.imshow(im0)\n"
   ]
  }
 ],
 "metadata": {
  "kernelspec": {
   "display_name": "yolov11",
   "language": "python",
   "name": "python3"
  },
  "language_info": {
   "codemirror_mode": {
    "name": "ipython",
    "version": 3
   },
   "file_extension": ".py",
   "mimetype": "text/x-python",
   "name": "python",
   "nbconvert_exporter": "python",
   "pygments_lexer": "ipython3",
   "version": "3.10.14"
  }
 },
 "nbformat": 4,
 "nbformat_minor": 2
}
