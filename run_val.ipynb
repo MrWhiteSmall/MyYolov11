{
 "cells": [
  {
   "cell_type": "code",
   "execution_count": null,
   "metadata": {},
   "outputs": [],
   "source": [
    "from ultralytics import YOLO\n",
    "\n",
    "ckp = 'runs/detect/train117/weights/best.pt'\n",
    "# Load a model\n",
    "model = YOLO(ckp).to('cuda:2')  # load an official model\n",
    "# model = YOLO(\"path/to/best.pt\")  # load a custom model\n",
    "\n",
    "# Validate the model\n",
    "# metrics = model.val()  # no arguments needed, dataset and settings remembered\n",
    "\n",
    "dir = '/root/datasets/mvYOLO-Det-TP-slice-Aug/validate_slice/images'\n",
    "model.predict(dir,save_txt=True,save_conf=True)\n",
    "# import os \n",
    "# names = os.listdir(dir)\n",
    "# from os.path import join as osj\n",
    "# for name in names:\n",
    "#     path = osj(dir,name)\n",
    "#     model.predict(path,save_txt=True,save_conf=True)  # no arguments needed, dataset and settings remembered"
   ]
  },
  {
   "cell_type": "code",
   "execution_count": null,
   "metadata": {},
   "outputs": [],
   "source": [
    "from ultralytics.models import RTDETR\n",
    "\n",
    "ckp = 'runs/train/exp8/weights/best.pt'\n",
    "\n",
    "model = RTDETR(model = ckp).to('cuda:0')\n",
    "\n",
    "dir = '/root/datasets/mvYOLO-Det-TP-slice-Aug/validate_slice/images'\n",
    "model.predict(dir,save_txt=True,save_conf=True)"
   ]
  },
  {
   "cell_type": "markdown",
   "metadata": {},
   "source": [
    "# SIMO-Light"
   ]
  },
  {
   "cell_type": "code",
   "execution_count": null,
   "metadata": {},
   "outputs": [],
   "source": [
    "from ultralytics import YOLO\n",
    "\n",
    "ckp = 'runs/detect/train141/weights/best.pt'\n",
    "# Load a model\n",
    "model = YOLO(ckp).to('cuda:3')  # load an official model\n",
    "\n",
    "dir = '/root/datasets/mvTP-SIMO-Light-slice/validate/images'\n",
    "model.predict(dir,save_txt=True,save_conf=True)"
   ]
  },
  {
   "cell_type": "markdown",
   "metadata": {},
   "source": [
    "# FUMO"
   ]
  },
  {
   "cell_type": "code",
   "execution_count": null,
   "metadata": {},
   "outputs": [],
   "source": [
    "from ultralytics import YOLO\n",
    "\n",
    "ckp = 'runs/detect/train144/weights/best.pt'\n",
    "# Load a model\n",
    "model = YOLO(ckp).to('cuda:2')  # load an official model\n",
    "\n",
    "dir = '/root/datasets/mvTP-FUMO-mixed-Aug/validate/images'\n",
    "model.predict(dir,save_txt=True,save_conf=True)"
   ]
  }
 ],
 "metadata": {
  "kernelspec": {
   "display_name": "yolov11",
   "language": "python",
   "name": "python3"
  },
  "language_info": {
   "codemirror_mode": {
    "name": "ipython",
    "version": 3
   },
   "file_extension": ".py",
   "mimetype": "text/x-python",
   "name": "python",
   "nbconvert_exporter": "python",
   "pygments_lexer": "ipython3",
   "version": "3.10.14"
  }
 },
 "nbformat": 4,
 "nbformat_minor": 2
}
